{
 "cells": [
  {
   "cell_type": "code",
   "execution_count": 89,
   "metadata": {},
   "outputs": [],
   "source": [
    "from dataloader import ESC_Dataset\n",
    "import torch\n",
    "from models.vit import ViT\n",
    "import os\n",
    "import numpy as np\n",
    "from torch.utils.data import DataLoader\n",
    "from sklearn.metrics import f1_score\n",
    "from sklearn.metrics import accuracy_score\n",
    "from tqdm import tqdm\n",
    "import torch.nn as nn"
   ]
  },
  {
   "cell_type": "code",
   "execution_count": 90,
   "metadata": {},
   "outputs": [],
   "source": [
    "full_dataset = np.load(os.path.join(\"esc-50\", \"esc-50-data.npy\"), allow_pickle = True)"
   ]
  },
  {
   "cell_type": "code",
   "execution_count": 91,
   "metadata": {},
   "outputs": [],
   "source": [
    "train_dataset = ESC_Dataset(dataset = full_dataset, esc_fold=0, eval_mode = False)\n",
    "eval_dataset = ESC_Dataset(dataset = full_dataset, esc_fold=0, eval_mode = True)"
   ]
  },
  {
   "cell_type": "code",
   "execution_count": 92,
   "metadata": {},
   "outputs": [],
   "source": [
    "train_dataloader = DataLoader(train_dataset, batch_size=128, shuffle=False, num_workers=4, collate_fn=None, pin_memory=False)\n",
    "eval_dataloader = DataLoader(eval_dataset, batch_size=128, shuffle=False, num_workers=4, collate_fn=None, pin_memory=False)"
   ]
  },
  {
   "cell_type": "code",
   "execution_count": 93,
   "metadata": {},
   "outputs": [],
   "source": [
    "model = ViT(\n",
    "    image_size = (320,128),\n",
    "    patch_size = (40,16),\n",
    "    channels = 1,\n",
    "    num_classes = 50,\n",
    "    dim = 1024,\n",
    "    depth = 6,\n",
    "    heads = 16,\n",
    "    mlp_dim = 2048,\n",
    "    dropout = 0.0,\n",
    "    emb_dropout = 0.0\n",
    ")"
   ]
  },
  {
   "cell_type": "code",
   "execution_count": 94,
   "metadata": {},
   "outputs": [],
   "source": [
    "device = torch.device(\"cuda\" if torch.cuda.is_available() else \"cpu\")"
   ]
  },
  {
   "cell_type": "code",
   "execution_count": 95,
   "metadata": {},
   "outputs": [],
   "source": [
    "model = model.to(device)"
   ]
  },
  {
   "cell_type": "code",
   "execution_count": 96,
   "metadata": {},
   "outputs": [],
   "source": [
    "def eval_model(model, eval_dataset, device):\n",
    "    model.eval()\n",
    "    forecast, true_labs = [], []\n",
    "    with torch.no_grad():\n",
    "        for data, labs in tqdm(eval_dataset):\n",
    "            data, labs = data.to(device), labs[:,0].cpu()\n",
    "            true_labs.append(labs)\n",
    "            outputs = model(data)\n",
    "            \n",
    "            outputs = outputs.detach().cpu().numpy().argmax(axis=1)\n",
    "            forecast.append(outputs)\n",
    "    forecast = [x for sublist in forecast for x in sublist]\n",
    "    true_labs = [x for sublist in true_labs for x in sublist]\n",
    "    return f1_score(forecast, true_labs, average='macro'), accuracy_score(forecast, true_labs)"
   ]
  },
  {
   "cell_type": "code",
   "execution_count": 97,
   "metadata": {},
   "outputs": [],
   "source": [
    "criterion = nn.CrossEntropyLoss()"
   ]
  },
  {
   "cell_type": "code",
   "execution_count": 98,
   "metadata": {},
   "outputs": [
    {
     "name": "stderr",
     "output_type": "stream",
     "text": [
      "100%|██████████| 13/13 [01:26<00:00,  6.64s/it]\n",
      "100%|██████████| 4/4 [00:10<00:00,  2.68s/it]\n",
      "100%|██████████| 13/13 [00:31<00:00,  2.45s/it]\n"
     ]
    },
    {
     "name": "stdout",
     "output_type": "stream",
     "text": [
      "epoch: 0, f1_test: 0.0008163265306122449, accuracy_test: 0.02, f1_train: 0.004280768706555813,  accuracy_train: 0.02375\n"
     ]
    },
    {
     "name": "stderr",
     "output_type": "stream",
     "text": [
      "100%|██████████| 13/13 [01:25<00:00,  6.61s/it]\n",
      "100%|██████████| 4/4 [00:08<00:00,  2.21s/it]\n",
      "100%|██████████| 13/13 [00:30<00:00,  2.36s/it]\n"
     ]
    },
    {
     "name": "stdout",
     "output_type": "stream",
     "text": [
      "epoch: 1, f1_test: 0.013016451646588632, accuracy_test: 0.05, f1_train: 0.0058397721390283505,  accuracy_train: 0.038125\n"
     ]
    },
    {
     "name": "stderr",
     "output_type": "stream",
     "text": [
      "100%|██████████| 13/13 [01:34<00:00,  7.26s/it]\n",
      "100%|██████████| 4/4 [00:08<00:00,  2.16s/it]\n",
      "100%|██████████| 13/13 [00:31<00:00,  2.39s/it]\n"
     ]
    },
    {
     "name": "stdout",
     "output_type": "stream",
     "text": [
      "epoch: 2, f1_test: 0.02458299814725023, accuracy_test: 0.07, f1_train: 0.013755366733368544,  accuracy_train: 0.050625\n"
     ]
    },
    {
     "name": "stderr",
     "output_type": "stream",
     "text": [
      "100%|██████████| 13/13 [01:43<00:00,  7.94s/it]\n",
      "100%|██████████| 4/4 [00:08<00:00,  2.24s/it]\n",
      "100%|██████████| 13/13 [00:30<00:00,  2.33s/it]\n"
     ]
    },
    {
     "name": "stdout",
     "output_type": "stream",
     "text": [
      "epoch: 3, f1_test: 0.0223861873909118, accuracy_test: 0.0675, f1_train: 0.03831591721499227,  accuracy_train: 0.088125\n"
     ]
    },
    {
     "name": "stderr",
     "output_type": "stream",
     "text": [
      "100%|██████████| 13/13 [01:43<00:00,  7.95s/it]\n",
      "100%|██████████| 4/4 [00:11<00:00,  2.84s/it]\n",
      "100%|██████████| 13/13 [00:31<00:00,  2.44s/it]\n"
     ]
    },
    {
     "name": "stdout",
     "output_type": "stream",
     "text": [
      "epoch: 4, f1_test: 0.02699964213368804, accuracy_test: 0.0725, f1_train: 0.043508502179321146,  accuracy_train: 0.10125\n"
     ]
    },
    {
     "name": "stderr",
     "output_type": "stream",
     "text": [
      "100%|██████████| 13/13 [01:42<00:00,  7.88s/it]\n",
      "100%|██████████| 4/4 [00:09<00:00,  2.31s/it]\n",
      "100%|██████████| 13/13 [00:30<00:00,  2.31s/it]\n"
     ]
    },
    {
     "name": "stdout",
     "output_type": "stream",
     "text": [
      "epoch: 5, f1_test: 0.06660081303392125, accuracy_test: 0.1, f1_train: 0.07343327472424675,  accuracy_train: 0.116875\n"
     ]
    },
    {
     "name": "stderr",
     "output_type": "stream",
     "text": [
      "100%|██████████| 13/13 [01:46<00:00,  8.16s/it]\n",
      "100%|██████████| 4/4 [00:10<00:00,  2.53s/it]\n",
      "100%|██████████| 13/13 [00:30<00:00,  2.33s/it]\n"
     ]
    },
    {
     "name": "stdout",
     "output_type": "stream",
     "text": [
      "epoch: 6, f1_test: 0.05593521564782408, accuracy_test: 0.0925, f1_train: 0.0685175119629104,  accuracy_train: 0.11625\n"
     ]
    },
    {
     "name": "stderr",
     "output_type": "stream",
     "text": [
      "100%|██████████| 13/13 [01:37<00:00,  7.47s/it]\n",
      "100%|██████████| 4/4 [00:07<00:00,  1.94s/it]\n",
      "100%|██████████| 13/13 [00:27<00:00,  2.09s/it]\n"
     ]
    },
    {
     "name": "stdout",
     "output_type": "stream",
     "text": [
      "epoch: 7, f1_test: 0.044222951689950614, accuracy_test: 0.09, f1_train: 0.07662943925676316,  accuracy_train: 0.13125\n"
     ]
    },
    {
     "name": "stderr",
     "output_type": "stream",
     "text": [
      "100%|██████████| 13/13 [01:39<00:00,  7.62s/it]\n",
      "100%|██████████| 4/4 [00:10<00:00,  2.53s/it]\n",
      "100%|██████████| 13/13 [00:26<00:00,  2.04s/it]\n"
     ]
    },
    {
     "name": "stdout",
     "output_type": "stream",
     "text": [
      "epoch: 8, f1_test: 0.06609817557700028, accuracy_test: 0.1025, f1_train: 0.11071982987185322,  accuracy_train: 0.153125\n"
     ]
    },
    {
     "name": "stderr",
     "output_type": "stream",
     "text": [
      "100%|██████████| 13/13 [01:38<00:00,  7.56s/it]\n",
      "100%|██████████| 4/4 [00:07<00:00,  1.98s/it]\n",
      "100%|██████████| 13/13 [00:26<00:00,  2.03s/it]\n"
     ]
    },
    {
     "name": "stdout",
     "output_type": "stream",
     "text": [
      "epoch: 9, f1_test: 0.08468035624930134, accuracy_test: 0.1225, f1_train: 0.15915913608115592,  accuracy_train: 0.19625\n"
     ]
    },
    {
     "name": "stderr",
     "output_type": "stream",
     "text": [
      "100%|██████████| 13/13 [01:48<00:00,  8.32s/it]\n",
      "100%|██████████| 4/4 [00:07<00:00,  1.96s/it]\n",
      "100%|██████████| 13/13 [00:38<00:00,  2.99s/it]\n"
     ]
    },
    {
     "name": "stdout",
     "output_type": "stream",
     "text": [
      "epoch: 10, f1_test: 0.11742268650228826, accuracy_test: 0.1575, f1_train: 0.16995906116768061,  accuracy_train: 0.20875\n"
     ]
    },
    {
     "name": "stderr",
     "output_type": "stream",
     "text": [
      "100%|██████████| 13/13 [02:19<00:00, 10.76s/it]\n",
      "100%|██████████| 4/4 [00:11<00:00,  2.82s/it]\n",
      "100%|██████████| 13/13 [00:38<00:00,  2.97s/it]\n"
     ]
    },
    {
     "name": "stdout",
     "output_type": "stream",
     "text": [
      "epoch: 11, f1_test: 0.10287117228223303, accuracy_test: 0.15, f1_train: 0.1993950383252012,  accuracy_train: 0.24125\n"
     ]
    },
    {
     "name": "stderr",
     "output_type": "stream",
     "text": [
      "100%|██████████| 13/13 [02:00<00:00,  9.25s/it]\n",
      "100%|██████████| 4/4 [00:08<00:00,  2.11s/it]\n",
      "100%|██████████| 13/13 [00:27<00:00,  2.15s/it]\n"
     ]
    },
    {
     "name": "stdout",
     "output_type": "stream",
     "text": [
      "epoch: 12, f1_test: 0.14096402064304425, accuracy_test: 0.18, f1_train: 0.22425938880983298,  accuracy_train: 0.265\n"
     ]
    },
    {
     "name": "stderr",
     "output_type": "stream",
     "text": [
      "100%|██████████| 13/13 [01:47<00:00,  8.28s/it]\n",
      "100%|██████████| 4/4 [00:07<00:00,  1.97s/it]\n",
      "100%|██████████| 13/13 [00:25<00:00,  1.96s/it]\n"
     ]
    },
    {
     "name": "stdout",
     "output_type": "stream",
     "text": [
      "epoch: 13, f1_test: 0.15194204163486702, accuracy_test: 0.1775, f1_train: 0.2851094806281918,  accuracy_train: 0.31125\n"
     ]
    },
    {
     "name": "stderr",
     "output_type": "stream",
     "text": [
      "100%|██████████| 13/13 [01:42<00:00,  7.85s/it]\n",
      "100%|██████████| 4/4 [00:07<00:00,  1.89s/it]\n",
      "100%|██████████| 13/13 [00:25<00:00,  1.95s/it]\n"
     ]
    },
    {
     "name": "stdout",
     "output_type": "stream",
     "text": [
      "epoch: 14, f1_test: 0.12344295084785681, accuracy_test: 0.17, f1_train: 0.2634154477574576,  accuracy_train: 0.296875\n"
     ]
    },
    {
     "name": "stderr",
     "output_type": "stream",
     "text": [
      "100%|██████████| 13/13 [02:00<00:00,  9.30s/it]\n",
      "100%|██████████| 4/4 [00:07<00:00,  1.89s/it]\n",
      "100%|██████████| 13/13 [00:27<00:00,  2.14s/it]\n"
     ]
    },
    {
     "name": "stdout",
     "output_type": "stream",
     "text": [
      "epoch: 15, f1_test: 0.16182083173936776, accuracy_test: 0.185, f1_train: 0.33296290225599007,  accuracy_train: 0.35125\n"
     ]
    },
    {
     "name": "stderr",
     "output_type": "stream",
     "text": [
      "100%|██████████| 13/13 [02:05<00:00,  9.69s/it]\n",
      "100%|██████████| 4/4 [00:09<00:00,  2.27s/it]\n",
      "100%|██████████| 13/13 [00:29<00:00,  2.30s/it]\n"
     ]
    },
    {
     "name": "stdout",
     "output_type": "stream",
     "text": [
      "epoch: 16, f1_test: 0.1588809194972878, accuracy_test: 0.1825, f1_train: 0.3736369894636805,  accuracy_train: 0.3975\n"
     ]
    },
    {
     "name": "stderr",
     "output_type": "stream",
     "text": [
      "100%|██████████| 13/13 [02:01<00:00,  9.38s/it]\n",
      "100%|██████████| 4/4 [00:09<00:00,  2.42s/it]\n",
      "100%|██████████| 13/13 [00:31<00:00,  2.46s/it]\n"
     ]
    },
    {
     "name": "stdout",
     "output_type": "stream",
     "text": [
      "epoch: 17, f1_test: 0.1488575955632027, accuracy_test: 0.185, f1_train: 0.38089761188698384,  accuracy_train: 0.400625\n"
     ]
    },
    {
     "name": "stderr",
     "output_type": "stream",
     "text": [
      "100%|██████████| 13/13 [02:03<00:00,  9.53s/it]\n",
      "100%|██████████| 4/4 [00:11<00:00,  2.83s/it]\n",
      "100%|██████████| 13/13 [00:33<00:00,  2.57s/it]\n"
     ]
    },
    {
     "name": "stdout",
     "output_type": "stream",
     "text": [
      "epoch: 18, f1_test: 0.15968254834794093, accuracy_test: 0.195, f1_train: 0.39484455563930604,  accuracy_train: 0.4125\n"
     ]
    },
    {
     "name": "stderr",
     "output_type": "stream",
     "text": [
      "100%|██████████| 13/13 [02:04<00:00,  9.58s/it]\n",
      "100%|██████████| 4/4 [00:09<00:00,  2.35s/it]\n",
      "100%|██████████| 13/13 [00:35<00:00,  2.76s/it]\n"
     ]
    },
    {
     "name": "stdout",
     "output_type": "stream",
     "text": [
      "epoch: 19, f1_test: 0.19004483137706152, accuracy_test: 0.21, f1_train: 0.4213141440910501,  accuracy_train: 0.436875\n"
     ]
    },
    {
     "name": "stderr",
     "output_type": "stream",
     "text": [
      "100%|██████████| 13/13 [02:02<00:00,  9.45s/it]\n",
      "100%|██████████| 4/4 [00:09<00:00,  2.35s/it]\n",
      "100%|██████████| 13/13 [00:32<00:00,  2.47s/it]\n"
     ]
    },
    {
     "name": "stdout",
     "output_type": "stream",
     "text": [
      "epoch: 20, f1_test: 0.1783728309833046, accuracy_test: 0.1925, f1_train: 0.47077596757953516,  accuracy_train: 0.48375\n"
     ]
    },
    {
     "name": "stderr",
     "output_type": "stream",
     "text": [
      "100%|██████████| 13/13 [02:01<00:00,  9.38s/it]\n",
      "100%|██████████| 4/4 [00:10<00:00,  2.73s/it]\n",
      "100%|██████████| 13/13 [00:32<00:00,  2.48s/it]\n"
     ]
    },
    {
     "name": "stdout",
     "output_type": "stream",
     "text": [
      "epoch: 21, f1_test: 0.1814713652360711, accuracy_test: 0.215, f1_train: 0.4451472819445168,  accuracy_train: 0.468125\n"
     ]
    },
    {
     "name": "stderr",
     "output_type": "stream",
     "text": [
      "100%|██████████| 13/13 [02:09<00:00,  9.99s/it]\n",
      "100%|██████████| 4/4 [00:10<00:00,  2.67s/it]\n",
      "100%|██████████| 13/13 [00:30<00:00,  2.32s/it]\n"
     ]
    },
    {
     "name": "stdout",
     "output_type": "stream",
     "text": [
      "epoch: 22, f1_test: 0.22864244108145038, accuracy_test: 0.25, f1_train: 0.582753339814355,  accuracy_train: 0.596875\n"
     ]
    },
    {
     "name": "stderr",
     "output_type": "stream",
     "text": [
      "100%|██████████| 13/13 [02:07<00:00,  9.83s/it]\n",
      "100%|██████████| 4/4 [00:09<00:00,  2.41s/it]\n",
      "100%|██████████| 13/13 [00:32<00:00,  2.51s/it]\n"
     ]
    },
    {
     "name": "stdout",
     "output_type": "stream",
     "text": [
      "epoch: 23, f1_test: 0.21687663749043012, accuracy_test: 0.2425, f1_train: 0.5869565519053129,  accuracy_train: 0.60375\n"
     ]
    },
    {
     "name": "stderr",
     "output_type": "stream",
     "text": [
      "100%|██████████| 13/13 [02:06<00:00,  9.71s/it]\n",
      "100%|██████████| 4/4 [00:10<00:00,  2.56s/it]\n",
      "100%|██████████| 13/13 [00:32<00:00,  2.48s/it]\n"
     ]
    },
    {
     "name": "stdout",
     "output_type": "stream",
     "text": [
      "epoch: 24, f1_test: 0.22125403008838374, accuracy_test: 0.2475, f1_train: 0.5763082070267392,  accuracy_train: 0.59625\n"
     ]
    },
    {
     "name": "stderr",
     "output_type": "stream",
     "text": [
      "100%|██████████| 13/13 [02:09<00:00, 10.00s/it]\n",
      "100%|██████████| 4/4 [00:09<00:00,  2.30s/it]\n",
      "100%|██████████| 13/13 [00:31<00:00,  2.39s/it]\n"
     ]
    },
    {
     "name": "stdout",
     "output_type": "stream",
     "text": [
      "epoch: 25, f1_test: 0.22736661701871536, accuracy_test: 0.2525, f1_train: 0.6864620306434318,  accuracy_train: 0.6875\n"
     ]
    },
    {
     "name": "stderr",
     "output_type": "stream",
     "text": [
      "100%|██████████| 13/13 [02:13<00:00, 10.28s/it]\n",
      "100%|██████████| 4/4 [00:09<00:00,  2.43s/it]\n",
      "100%|██████████| 13/13 [00:33<00:00,  2.60s/it]\n"
     ]
    },
    {
     "name": "stdout",
     "output_type": "stream",
     "text": [
      "epoch: 26, f1_test: 0.23686431554435758, accuracy_test: 0.2625, f1_train: 0.6817024232440657,  accuracy_train: 0.685625\n"
     ]
    },
    {
     "name": "stderr",
     "output_type": "stream",
     "text": [
      "100%|██████████| 13/13 [02:07<00:00,  9.82s/it]\n",
      "100%|██████████| 4/4 [00:07<00:00,  1.98s/it]\n",
      "100%|██████████| 13/13 [00:26<00:00,  2.07s/it]\n"
     ]
    },
    {
     "name": "stdout",
     "output_type": "stream",
     "text": [
      "epoch: 27, f1_test: 0.22131438785165247, accuracy_test: 0.2425, f1_train: 0.7446864262074417,  accuracy_train: 0.746875\n"
     ]
    },
    {
     "name": "stderr",
     "output_type": "stream",
     "text": [
      "100%|██████████| 13/13 [01:54<00:00,  8.79s/it]\n",
      "100%|██████████| 4/4 [00:07<00:00,  1.85s/it]\n",
      "100%|██████████| 13/13 [00:25<00:00,  1.98s/it]\n"
     ]
    },
    {
     "name": "stdout",
     "output_type": "stream",
     "text": [
      "epoch: 28, f1_test: 0.25710208200886625, accuracy_test: 0.27, f1_train: 0.7057215508371408,  accuracy_train: 0.71375\n"
     ]
    },
    {
     "name": "stderr",
     "output_type": "stream",
     "text": [
      " 92%|█████████▏| 12/13 [02:03<00:10, 10.32s/it]\n"
     ]
    },
    {
     "ename": "KeyboardInterrupt",
     "evalue": "",
     "output_type": "error",
     "traceback": [
      "\u001b[0;31m---------------------------------------------------------------------------\u001b[0m",
      "\u001b[0;31mKeyboardInterrupt\u001b[0m                         Traceback (most recent call last)",
      "\u001b[0;32m/tmp/ipykernel_4797/3333812048.py\u001b[0m in \u001b[0;36m<module>\u001b[0;34m\u001b[0m\n\u001b[1;32m      9\u001b[0m         \u001b[0moutputs\u001b[0m \u001b[0;34m=\u001b[0m \u001b[0mmodel\u001b[0m\u001b[0;34m(\u001b[0m\u001b[0mdata\u001b[0m\u001b[0;34m)\u001b[0m\u001b[0;34m\u001b[0m\u001b[0;34m\u001b[0m\u001b[0m\n\u001b[1;32m     10\u001b[0m         \u001b[0mloss\u001b[0m \u001b[0;34m=\u001b[0m \u001b[0mcriterion\u001b[0m\u001b[0;34m(\u001b[0m\u001b[0moutputs\u001b[0m\u001b[0;34m,\u001b[0m \u001b[0mlabs\u001b[0m\u001b[0;34m)\u001b[0m\u001b[0;34m\u001b[0m\u001b[0;34m\u001b[0m\u001b[0m\n\u001b[0;32m---> 11\u001b[0;31m         \u001b[0mloss\u001b[0m\u001b[0;34m.\u001b[0m\u001b[0mbackward\u001b[0m\u001b[0;34m(\u001b[0m\u001b[0;34m)\u001b[0m\u001b[0;34m\u001b[0m\u001b[0;34m\u001b[0m\u001b[0m\n\u001b[0m\u001b[1;32m     12\u001b[0m         \u001b[0moptimizer\u001b[0m\u001b[0;34m.\u001b[0m\u001b[0mstep\u001b[0m\u001b[0;34m(\u001b[0m\u001b[0;34m)\u001b[0m\u001b[0;34m\u001b[0m\u001b[0;34m\u001b[0m\u001b[0m\n\u001b[1;32m     13\u001b[0m         \u001b[0moptimizer\u001b[0m\u001b[0;34m.\u001b[0m\u001b[0mzero_grad\u001b[0m\u001b[0;34m(\u001b[0m\u001b[0;34m)\u001b[0m\u001b[0;34m\u001b[0m\u001b[0;34m\u001b[0m\u001b[0m\n",
      "\u001b[0;32m~/.local/lib/python3.8/site-packages/torch/_tensor.py\u001b[0m in \u001b[0;36mbackward\u001b[0;34m(self, gradient, retain_graph, create_graph, inputs)\u001b[0m\n\u001b[1;32m    361\u001b[0m                 \u001b[0mcreate_graph\u001b[0m\u001b[0;34m=\u001b[0m\u001b[0mcreate_graph\u001b[0m\u001b[0;34m,\u001b[0m\u001b[0;34m\u001b[0m\u001b[0;34m\u001b[0m\u001b[0m\n\u001b[1;32m    362\u001b[0m                 inputs=inputs)\n\u001b[0;32m--> 363\u001b[0;31m         \u001b[0mtorch\u001b[0m\u001b[0;34m.\u001b[0m\u001b[0mautograd\u001b[0m\u001b[0;34m.\u001b[0m\u001b[0mbackward\u001b[0m\u001b[0;34m(\u001b[0m\u001b[0mself\u001b[0m\u001b[0;34m,\u001b[0m \u001b[0mgradient\u001b[0m\u001b[0;34m,\u001b[0m \u001b[0mretain_graph\u001b[0m\u001b[0;34m,\u001b[0m \u001b[0mcreate_graph\u001b[0m\u001b[0;34m,\u001b[0m \u001b[0minputs\u001b[0m\u001b[0;34m=\u001b[0m\u001b[0minputs\u001b[0m\u001b[0;34m)\u001b[0m\u001b[0;34m\u001b[0m\u001b[0;34m\u001b[0m\u001b[0m\n\u001b[0m\u001b[1;32m    364\u001b[0m \u001b[0;34m\u001b[0m\u001b[0m\n\u001b[1;32m    365\u001b[0m     \u001b[0;32mdef\u001b[0m \u001b[0mregister_hook\u001b[0m\u001b[0;34m(\u001b[0m\u001b[0mself\u001b[0m\u001b[0;34m,\u001b[0m \u001b[0mhook\u001b[0m\u001b[0;34m)\u001b[0m\u001b[0;34m:\u001b[0m\u001b[0;34m\u001b[0m\u001b[0;34m\u001b[0m\u001b[0m\n",
      "\u001b[0;32m~/.local/lib/python3.8/site-packages/torch/autograd/__init__.py\u001b[0m in \u001b[0;36mbackward\u001b[0;34m(tensors, grad_tensors, retain_graph, create_graph, grad_variables, inputs)\u001b[0m\n\u001b[1;32m    171\u001b[0m     \u001b[0;31m# some Python versions print out the first line of a multi-line function\u001b[0m\u001b[0;34m\u001b[0m\u001b[0;34m\u001b[0m\u001b[0;34m\u001b[0m\u001b[0m\n\u001b[1;32m    172\u001b[0m     \u001b[0;31m# calls in the traceback and some print out the last line\u001b[0m\u001b[0;34m\u001b[0m\u001b[0;34m\u001b[0m\u001b[0;34m\u001b[0m\u001b[0m\n\u001b[0;32m--> 173\u001b[0;31m     Variable._execution_engine.run_backward(  # Calls into the C++ engine to run the backward pass\n\u001b[0m\u001b[1;32m    174\u001b[0m         \u001b[0mtensors\u001b[0m\u001b[0;34m,\u001b[0m \u001b[0mgrad_tensors_\u001b[0m\u001b[0;34m,\u001b[0m \u001b[0mretain_graph\u001b[0m\u001b[0;34m,\u001b[0m \u001b[0mcreate_graph\u001b[0m\u001b[0;34m,\u001b[0m \u001b[0minputs\u001b[0m\u001b[0;34m,\u001b[0m\u001b[0;34m\u001b[0m\u001b[0;34m\u001b[0m\u001b[0m\n\u001b[1;32m    175\u001b[0m         allow_unreachable=True, accumulate_grad=True)  # Calls into the C++ engine to run the backward pass\n",
      "\u001b[0;31mKeyboardInterrupt\u001b[0m: "
     ]
    }
   ],
   "source": [
    "n_epoch = 100\n",
    "best_f1 = 0\n",
    "lr = 1e-3\n",
    "optimizer = torch.optim.Adam(model.parameters(), lr=lr)\n",
    "for epoch in range(n_epoch):\n",
    "    model.train()\n",
    "    for data, labs in tqdm(train_dataloader):\n",
    "        data, labs = data.to(device), labs.to(device)[:,0]\n",
    "        outputs = model(data)\n",
    "        loss = criterion(outputs, labs) \n",
    "        loss.backward()\n",
    "        optimizer.step()\n",
    "        optimizer.zero_grad()\n",
    "        # del outputs\n",
    "        # torch.cuda.empty_cache( )\n",
    "#     if epoch % 10 == 0:\n",
    "    f1, accuracy = eval_model(model, eval_dataloader, device)\n",
    "    f1_train, accuracy_train = eval_model(model, train_dataloader, device)\n",
    "    print(f'epoch: {epoch}, f1_test: {f1}, accuracy_test: {accuracy}, f1_train: {f1_train},  accuracy_train: {accuracy_train}')\n",
    "    if f1 > best_f1:\n",
    "        best_f1 = f1\n",
    "        torch.save(model.state_dict(), 'classic_vit.pt')\n",
    "\n",
    "    lr = lr * 0.95\n",
    "    for param_group in optimizer.param_groups:\n",
    "        param_group['lr'] = lr"
   ]
  }
 ],
 "metadata": {
  "kernelspec": {
   "display_name": "Python 3.8.10 64-bit",
   "language": "python",
   "name": "python3"
  },
  "language_info": {
   "codemirror_mode": {
    "name": "ipython",
    "version": 3
   },
   "file_extension": ".py",
   "mimetype": "text/x-python",
   "name": "python",
   "nbconvert_exporter": "python",
   "pygments_lexer": "ipython3",
   "version": "3.8.10"
  },
  "orig_nbformat": 4,
  "vscode": {
   "interpreter": {
    "hash": "916dbcbb3f70747c44a77c7bcd40155683ae19c65e1c03b4aa3499c5328201f1"
   }
  }
 },
 "nbformat": 4,
 "nbformat_minor": 2
}
